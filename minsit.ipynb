{
  "cells": [
    {
      "cell_type": "code",
      "execution_count": 136,
      "metadata": {
        "id": "83b44bUJqHZB"
      },
      "outputs": [],
      "source": [
        "import numpy as np\n",
        "import matplotlib.pyplot as plt\n",
        "from tensorflow.keras.datasets import mnist\n",
        "from tensorflow.keras.utils import to_categorical\n",
        "\n",
        "# Load MNIST dataset\n",
        "(train_images, train_labels), (test_images, test_labels) = mnist.load_data()\n",
        "\n",
        "# Preprocess data\n",
        "train_images = train_images.reshape((60000, 28 * 28)).astype('float32') / 255\n",
        "test_images = test_images.reshape((10000, 28 * 28)).astype('float32') / 255\n",
        "\n",
        "train_labels = to_categorical(train_labels)\n",
        "test_labels = to_categorical(test_labels)\n",
        "\n",
        "# Define MLP architecture\n",
        "class MLP:\n",
        "    def __init__(self, input_size, hidden_size, output_size):\n",
        "        self.weights_input_hidden = np.random.randn(input_size, hidden_size)\n",
        "        self.bias_hidden = np.zeros((1, hidden_size))\n",
        "        self.weights_hidden_output = np.random.randn(hidden_size, output_size)\n",
        "        self.bias_output = np.zeros((1, output_size))\n",
        "\n",
        "    def activation(self,x,type):\n",
        "        if type=='sigmoid':\n",
        "            return 1/(1+np.exp(-x))\n",
        "        elif type=='linear':\n",
        "            return x\n",
        "\n",
        "    def activation_derivative(self,x,type):\n",
        "        if(type=='sigmoid'):\n",
        "            return x*(1-x)\n",
        "        elif(type=='linear'):\n",
        "            return 1\n",
        "\n",
        "    def softmax(self, x):\n",
        "        exps = np.exp(x - np.max(x, axis=1, keepdims=True))\n",
        "        return exps / np.sum(exps, axis=1, keepdims=True)\n",
        "\n",
        "    def forward(self, inputs):\n",
        "        self.hiddenoutput=self.bias_hidden+np.dot(inputs,self.weights_input_hidden)\n",
        "        self.hiddenoutput=self.activation(self.hiddenoutput,'sigmoid')\n",
        "        self.output=self.bias_output+np.dot(self.hiddenoutput,self.weights_hidden_output)\n",
        "        self.output=self.activation(self.output,'sigmoid')\n",
        "        return self.softmax(self.output)\n",
        "    \n",
        "    def backward(self,image, label, learning_rate):\n",
        "        error=label-self.output\n",
        "        output_delta=error*self.activation_derivative(self.output,'sigmoid')\n",
        "        self.weights_hidden_output=self.weights_hidden_output+learning_rate*np.dot(self.hiddenoutput.T,output_delta)\n",
        "        hidden_delta=np.dot(output_delta,self.weights_hidden_output.T)*self.activation_derivative(self.hiddenoutput,'sigmoid') \n",
        "        self.weights_input_hidden=self.weights_input_hidden+learning_rate*np.outer(image,hidden_delta)\n",
        "        self.bias_hidden+=learning_rate*hidden_delta\n",
        "        self.bias_output+=learning_rate*output_delta"
      ]
    },
    {
      "cell_type": "code",
      "execution_count": 137,
      "metadata": {},
      "outputs": [
        {
          "name": "stdout",
          "output_type": "stream",
          "text": [
            "Epoch 1/5, Loss: 0.0757\n",
            "Epoch 2/5, Loss: 0.0713\n",
            "Epoch 3/5, Loss: 0.0697\n",
            "Epoch 4/5, Loss: 0.0692\n",
            "Epoch 5/5, Loss: 0.0688\n"
          ]
        },
        {
          "data": {
            "image/png": "[encoded data removed]",
            "text/plain": [
              "<Figure size 640x480 with 1 Axes>"
            ]
          },
          "metadata": {},
          "output_type": "display_data"
        }
      ],
      "source": [
        "# Define training parameter\n",
        "input_size = 784\n",
        "hidden_size = 64\n",
        "output_size = 10\n",
        "learning_rate = 0.1\n",
        "epochs = 5\n",
        "\n",
        "# Initialize MLP\n",
        "mlp = MLP(input_size, hidden_size, output_size)\n",
        "\n",
        "losses = []\n",
        "for epoch in range(epochs):\n",
        "    total_loss = 0\n",
        "    for image, label in zip(train_images, train_labels): \n",
        "        image = image.reshape(1, -1)\n",
        "        output = mlp.forward(image)\n",
        "        loss = np.mean((output - label) ** 2)\n",
        "        total_loss += loss\n",
        "        mlp.backward(image, label, learning_rate)\n",
        "    average_loss = total_loss / len(train_images)\n",
        "    losses.append(average_loss)\n",
        "    print(f'Epoch {epoch + 1}/{epochs}, Loss: {average_loss:.4f}')\n",
        "\n",
        "# Visualize training loss\n",
        "plt.plot(losses)\n",
        "plt.xlabel('Epochs')\n",
        "plt.ylabel('Loss')\n",
        "plt.title('Training Loss')\n",
        "plt.show()"
      ]
    },
    {
      "cell_type": "code",
      "execution_count": 138,
      "metadata": {},
      "outputs": [],
      "source": [
        "predicted=[]\n",
        "for image in test_images: \n",
        "        image = image.reshape(1, -1)\n",
        "        output = mlp.forward(image)\n",
        "        predicted.append(np.argmax(output))"
      ]
    },
    {
      "cell_type": "code",
      "execution_count": 139,
      "metadata": {},
      "outputs": [],
      "source": [
        "actual=[]\n",
        "for label in test_labels:\n",
        "    actual.append(np.argmax(test_labels))\n"
      ]
    },
    {
      "cell_type": "code",
      "execution_count": 140,
      "metadata": {},
      "outputs": [
        {
          "name": "stdout",
          "output_type": "stream",
          "text": [
            "Accuracy: 10.190000000000001 %\n",
            "Precision: [0.0, 0.0, 0.0, 0.0, 0.0, 0.0, 0.0, 1.0, 0.0, 0.0]\n",
            "Recall: [0, 0, 0, 0, 0, 0, 0, 0.1019, 0, 0]\n",
            "f1-score: [0, 0, 0, 0, 0, 0, 0, 0.18495326254651057, 0, 0]\n"
          ]
        }
      ],
      "source": [
        "def accuracy(actual,predicted):\n",
        "    accurate=0\n",
        "    for i in range(len(predicted)):\n",
        "        if predicted[i]==actual[i]:\n",
        "            accurate=accurate+1\n",
        "    return accurate/len(predicted)\n",
        "\n",
        "print('Accuracy:',accuracy(actual,predicted)*100,'%')\n",
        "\n",
        "def precision(actual,predicted):\n",
        "    precision_individual=[]\n",
        "    for i in range(10):\n",
        "        tp=0\n",
        "        fp=0\n",
        "        for j in range(len(predicted)):\n",
        "            if (predicted[j]==i and actual[j]==i):\n",
        "                tp=tp+1\n",
        "            elif predicted[j]==i:\n",
        "                fp=fp+1\n",
        "            if tp+fp==0:\n",
        "                temp=0\n",
        "            else:\n",
        "                temp=tp/(tp+fp)\n",
        "        precision_individual.append(temp)\n",
        "    return precision_individual\n",
        "\n",
        "print('Precision:',precision(actual,predicted))\n",
        "\n",
        "def recall(actual,predicted):\n",
        "    recall_individual=[]\n",
        "    for i in range(10):\n",
        "        tp=0\n",
        "        fn=0\n",
        "        for j in range(len(predicted)):\n",
        "            if (predicted[j]==i and actual[j]==i):\n",
        "                tp=tp+1\n",
        "            elif actual[j]==i:\n",
        "                fn=fn+1\n",
        "            if tp+fn==0:\n",
        "                temp=0\n",
        "            else:\n",
        "                temp=tp/(tp+fn)\n",
        "        recall_individual.append(temp)\n",
        "    return recall_individual\n",
        "\n",
        "\n",
        "print('Recall:',recall(actual,predicted))\n",
        "\n",
        "def f1_score(precision,recall):\n",
        "    f1score=[]\n",
        "    for i in range(10):\n",
        "        if precision[i]+recall[i]==0:\n",
        "            f1score.append(0)\n",
        "        else:\n",
        "            f1score.append((2*precision[i]*recall[i])/(precision[i]+recall[i]))\n",
        "    return f1score\n",
        "\n",
        "print('f1-score:',f1_score(precision(actual,predicted),recall(actual,predicted)))"
      ]
    },
    {
      "cell_type": "code",
      "execution_count": 141,
      "metadata": {},
      "outputs": [
        {
          "name": "stdout",
          "output_type": "stream",
          "text": [
            "[0, 0, 0, 0, 0, 0, 0, 0, 0, 0]\n",
            "[0, 0, 0, 0, 0, 0, 0, 0, 0, 0]\n",
            "[0, 0, 0, 0, 0, 0, 0, 0, 0, 0]\n",
            "[0, 0, 0, 0, 0, 0, 0, 0, 0, 0]\n",
            "[0, 0, 0, 0, 0, 0, 0, 0, 0, 0]\n",
            "[0, 0, 0, 0, 0, 0, 0, 0, 0, 0]\n",
            "[0, 0, 0, 0, 0, 0, 0, 0, 0, 0]\n",
            "[1030, 1137, 982, 1050, 1025, 831, 985, 1019, 951, 990]\n",
            "[0, 0, 0, 0, 0, 0, 0, 0, 0, 0]\n",
            "[0, 0, 0, 0, 0, 0, 0, 0, 0, 0]\n"
          ]
        }
      ],
      "source": [
        "def confusionmatrix(actual,predicted):\n",
        "    cm=[]\n",
        "    for i in range(10):\n",
        "        temp=[]\n",
        "        for j in range(10):\n",
        "            temp.append(sum([1 for k in range(len(predicted)) if predicted[k]==j and actual[k]==i]))\n",
        "        cm.append(temp)\n",
        "    return cm\n",
        "\n",
        "cm=confusionmatrix(actual,predicted)\n",
        "for row in cm:\n",
        "    print(row)"
      ]
    }
  ],
  "metadata": {
    "colab": {
      "provenance": []
    },
    "kernelspec": {
      "display_name": "Python 3",
      "name": "python3"
    },
    "language_info": {
      "codemirror_mode": {
        "name": "ipython",
        "version": 3
      },
      "file_extension": ".py",
      "mimetype": "text/x-python",
      "name": "python",
      "nbconvert_exporter": "python",
      "pygments_lexer": "ipython3",
      "version": "3.11.5"
    }
  },
  "nbformat": 4,
  "nbformat_minor": 0
}
